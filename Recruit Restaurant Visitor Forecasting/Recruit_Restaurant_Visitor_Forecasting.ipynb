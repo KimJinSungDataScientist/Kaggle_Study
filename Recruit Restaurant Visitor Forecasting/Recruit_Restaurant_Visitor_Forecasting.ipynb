{
 "cells": [
  {
   "cell_type": "markdown",
   "id": "63359d07",
   "metadata": {},
   "source": [
    "### 시계열 분석이라 한번에 넣지않고, 작성자는 일주일씩 잘라서, 39일 전 데이터 or 42 - 7*i 데이터 이렇게 두가지로 나눠서 분석을 진행"
   ]
  },
  {
   "cell_type": "code",
   "execution_count": 2,
   "id": "0a0a919f",
   "metadata": {},
   "outputs": [],
   "source": [
    "import time\n",
    "import numpy as np\n",
    "import pandas as pd\n",
    "from dateutil.parser import parse\n",
    "from datetime import date, timedelta\n",
    "from sklearn.preprocessing import LabelEncoder"
   ]
  },
  {
   "cell_type": "code",
   "execution_count": 3,
   "id": "61b106da",
   "metadata": {},
   "outputs": [],
   "source": [
    "data_path = './data/'"
   ]
  },
  {
   "cell_type": "code",
   "execution_count": 4,
   "id": "0d22dc18",
   "metadata": {},
   "outputs": [],
   "source": [
    "air_reserve = pd.read_csv(data_path + 'air_reserve.csv').rename(columns={'air_store_id':'store_id'})\n",
    "hpg_reserve = pd.read_csv(data_path + 'hpg_reserve.csv').rename(columns={'hpg_store_id':'store_id'})\n",
    "air_store = pd.read_csv(data_path + 'air_store_info.csv').rename(columns={'air_store_id':'store_id'})\n",
    "hpg_store = pd.read_csv(data_path + 'hpg_store_info.csv').rename(columns={'hpg_store_id':'store_id'})\n",
    "air_visit = pd.read_csv(data_path + 'air_visit_data.csv').rename(columns={'air_store_id':'store_id'})\n",
    "\n",
    "# drop=False 유의\n",
    "store_id_map = pd.read_csv(data_path + 'store_id_relation.csv').set_index('hpg_store_id',drop=False)\n",
    "date_info = pd.read_csv(data_path + 'date_info.csv').rename(columns={'calendar_date': 'visit_date'}).drop('day_of_week',axis=1)\n",
    "submission = pd.read_csv(data_path + 'sample_submission.csv')"
   ]
  },
  {
   "cell_type": "code",
   "execution_count": 12,
   "id": "42607f03",
   "metadata": {},
   "outputs": [],
   "source": [
    "submission['visit_date'] = submission['id'].str[-10:]\n",
    "submission['store_id'] = submission['id'].str[:-11]"
   ]
  },
  {
   "cell_type": "code",
   "execution_count": 13,
   "id": "d4c7e471",
   "metadata": {},
   "outputs": [],
   "source": [
    "air_reserve['visit_date'] = air_reserve['visit_datetime'].str[:10]\n",
    "air_reserve['reserve_date'] = air_reserve['reserve_datetime'].str[:10]\n",
    "air_reserve['dow'] = pd.to_datetime(air_reserve['visit_date']).dt.dayofweek"
   ]
  },
  {
   "cell_type": "code",
   "execution_count": 14,
   "id": "61a59f34",
   "metadata": {},
   "outputs": [],
   "source": [
    "hpg_reserve['visit_date'] = hpg_reserve['visit_datetime'].str[:10]\n",
    "hpg_reserve['reserve_date'] = hpg_reserve['reserve_datetime'].str[:10]\n",
    "hpg_reserve['dow'] = pd.to_datetime(hpg_reserve['visit_date']).dt.dayofweek"
   ]
  },
  {
   "cell_type": "code",
   "execution_count": 15,
   "id": "8e74a670",
   "metadata": {},
   "outputs": [],
   "source": [
    "air_visit['id'] = air_visit['store_id'] + '_' + air_visit['visit_date']"
   ]
  },
  {
   "cell_type": "code",
   "execution_count": 24,
   "id": "b1830ce0",
   "metadata": {
    "scrolled": true
   },
   "outputs": [],
   "source": [
    "# store_id에 맞게 hpg_store_id 매핑\n",
    "\n",
    "hpg_reserve['store_id'] = hpg_reserve['store_id'].map(store_id_map['air_store_id']).fillna(hpg_reserve['store_id'])\n",
    "hpg_store['store_id'] = hpg_store['store_id'].map(store_id_map['air_store_id']).fillna(hpg_store['store_id'])"
   ]
  },
  {
   "cell_type": "code",
   "execution_count": 26,
   "id": "ddd672cf",
   "metadata": {},
   "outputs": [],
   "source": [
    "# column name change hpg -> air\n",
    "\n",
    "hpg_store.rename(columns={'hpg_genre_name':'air_genre_name','hpg_area_name':'air_area_name'},inplace=True)"
   ]
  },
  {
   "cell_type": "code",
   "execution_count": 31,
   "id": "efcf1fe9",
   "metadata": {},
   "outputs": [],
   "source": [
    "data = pd.concat([air_visit, submission]).copy()\n",
    "data['dow'] = pd.to_datetime(data['visit_date']).dt.dayofweek"
   ]
  },
  {
   "cell_type": "code",
   "execution_count": 32,
   "id": "0f10dec1",
   "metadata": {},
   "outputs": [],
   "source": [
    "date_info['holiday_flg2'] = pd.to_datetime(date_info['visit_date']).dt.dayofweek"
   ]
  },
  {
   "cell_type": "code",
   "execution_count": 34,
   "id": "1d255684",
   "metadata": {},
   "outputs": [],
   "source": [
    "# 막주나 첫주 일 경우 1 그외 주 0\n",
    "date_info['holiday_flg2'] = ((date_info['holiday_flg2']>4) | (date_info['holiday_flg']==1)).astype(int)"
   ]
  },
  {
   "cell_type": "code",
   "execution_count": 40,
   "id": "6593eef9",
   "metadata": {},
   "outputs": [],
   "source": [
    "# air 등록된 store 지역 이름 문장의 첫번째 단어로만 잘라주기 (아마 큰 지역을 보려는 듯??)\n",
    "air_store['air_area_name0'] = air_store['air_area_name'].apply(lambda x: x.split(' ')[0])"
   ]
  },
  {
   "cell_type": "code",
   "execution_count": 41,
   "id": "24120e13",
   "metadata": {},
   "outputs": [],
   "source": [
    "lbl = LabelEncoder()\n",
    "air_store['air_genre_name'] = lbl.fit_transform(air_store['air_genre_name'])\n",
    "air_store['air_area_name0'] = lbl.fit_transform(air_store['air_area_name0'])"
   ]
  },
  {
   "cell_type": "code",
   "execution_count": 43,
   "id": "98efc2c7",
   "metadata": {},
   "outputs": [],
   "source": [
    "data['visitors'] = np.log1p(data['visitors'])\n",
    "data = data.merge(air_store,on='store_id',how='left')\n",
    "data = data.merge(date_info[['visit_date','holiday_flg','holiday_flg2']], on=['visit_date'],how='left')"
   ]
  },
  {
   "cell_type": "code",
   "execution_count": 45,
   "id": "b18749c0",
   "metadata": {},
   "outputs": [],
   "source": [
    "def concat(L):\n",
    "    result = None\n",
    "    for l in L:\n",
    "        if result is None:\n",
    "            result = l\n",
    "        else:\n",
    "            try:\n",
    "                result[l.columns.tolist()] = l\n",
    "            except:\n",
    "                print(l.head())\n",
    "    return result"
   ]
  },
  {
   "cell_type": "code",
   "execution_count": 46,
   "id": "e6debadd",
   "metadata": {},
   "outputs": [],
   "source": [
    "# 왼쪽 df 기준으로 합쳐주는 함수, *on은 지정 해줘야됨\n",
    "\n",
    "def left_merge(data1,data2,on):\n",
    "    if type(on) != list:\n",
    "        on = [on]\n",
    "    if (set(on) & set(data2.columns)) != set(on):\n",
    "        data2_temp = data2.reset_index()\n",
    "    else:\n",
    "        data2_temp = data2.copy()\n",
    "    columns = [f for f in data2.columns if f not in on]\n",
    "    result = data1.merge(data2_temp,on=on,how='left')\n",
    "    result = result[columns]\n",
    "    return result"
   ]
  },
  {
   "cell_type": "code",
   "execution_count": 47,
   "id": "d46e44ad",
   "metadata": {},
   "outputs": [],
   "source": [
    "# 날짜 차이 구하는 함수\n",
    "\n",
    "def diff_of_days(day1, day2):\n",
    "    days = (parse(day1[:10]) - parse(day2[:10])).days\n",
    "    return days"
   ]
  },
  {
   "cell_type": "code",
   "execution_count": 48,
   "id": "1f1e5b33",
   "metadata": {},
   "outputs": [],
   "source": [
    "# 지정한 날짜 만큼 후의 날짜 구하기 함수\n",
    "\n",
    "def date_add_days(start_date, days):\n",
    "    end_date = parse(start_date[:10]) + timedelta(days=days)\n",
    "    end_date = end_date.strftime('%Y-%m-%d')\n",
    "    return end_date"
   ]
  },
  {
   "cell_type": "code",
   "execution_count": 62,
   "id": "18003dcd",
   "metadata": {},
   "outputs": [],
   "source": [
    "def get_label(end_date,n_day):\n",
    "    label_end_date = date_add_days(end_date, n_day)\n",
    "    # end_date ~ (end_date + n_day) 안에 존재하는 경우\n",
    "    label = data[(data['visit_date'] < label_end_date) & (data['visit_date'] >= end_date)].copy()\n",
    "    \n",
    "    label['end_date'] = end_date\n",
    "    #방문날짜와 end_date와의 날짜 차이 (얼마만에 재방문 했는지 알아보는거 인듯??)\n",
    "    label['diff_of_day'] = label['visit_date'].apply(lambda x: diff_of_days(x,end_date))\n",
    "    label['month'] = label['visit_date'].str[5:7].astype(int)\n",
    "    label['year'] = label['visit_date'].str[:4].astype(int)\n",
    "    \n",
    "    \n",
    "    # 홀리데이 -1 ~ +3일 사이 방문한 경우 처리\n",
    "    for i in [3,2,1,-1]:\n",
    "        date_info_temp = date_info.copy()\n",
    "        date_info_temp['visit_date'] = date_info_temp['visit_date'].apply(lambda x: date_add_days(x,i))\n",
    "        date_info_temp.rename(columns={'holiday_flg':'ahead_holiday_{}'.format(i),'holiday_flg2':'ahead_holiday2_{}'.format(i)},inplace=True)\n",
    "        label = label.merge(date_info_temp, on=['visit_date'],how='left')\n",
    "    label = label.reset_index(drop=True)\n",
    "    return label"
   ]
  },
  {
   "cell_type": "markdown",
   "id": "33bad237",
   "metadata": {},
   "source": [
    "# store 구간"
   ]
  },
  {
   "cell_type": "code",
   "execution_count": 65,
   "id": "fdd3ffd4",
   "metadata": {},
   "outputs": [],
   "source": [
    "def get_store_visitor_feat(label, key, n_day):\n",
    "    #key[0] == end_date\n",
    "    \n",
    "    #end_date - n_day == start_date\n",
    "    \n",
    "    # 밑에서 일주일씩 차이 두면서,  end_date, n_day일 안에 방문고객 분석\n",
    "    start_date = date_add_days(key[0],-n_day)\n",
    "    # end_date ~ start_date 이렇게 지정한 날짜 사이에 방문한 고객들의 데이터만 data_temp에 저장하겠다.\n",
    "    data_temp = data[(data.visit_date < key[0]) & (data.visit_date > start_date)].copy()\n",
    "    \n",
    "    # 지정한 n_day에 맞게 네이밍을 해주는것 유의 (14,28,56,1000 있는듯)\n",
    "    result = data_temp.groupby(['store_id'], as_index=False)['visitors'].agg({'store_min{}'.format(n_day): 'min',\n",
    "                                                                             'store_mean{}'.format(n_day): 'mean',\n",
    "                                                                             'store_median{}'.format(n_day): 'median',\n",
    "                                                                             'store_max{}'.format(n_day): 'max',\n",
    "                                                                             'store_count{}'.format(n_day): 'count',\n",
    "                                                                             'store_std{}'.format(n_day): 'std',\n",
    "                                                                             'store_skew{}'.format(n_day): 'skew'})\n",
    "    result = left_merge(label, result, on=['store_id']).fillna(0)\n",
    "    return result"
   ]
  },
  {
   "cell_type": "code",
   "execution_count": 95,
   "id": "3d963f4b",
   "metadata": {},
   "outputs": [],
   "source": [
    "def get_store_exp_visitor_feat(label, key, n_day):\n",
    "    start_date = date_add_days(key[0], -n_day)\n",
    "    \n",
    "    # end_date ~ start_date 이렇게 지정한 날짜 사이에 방문한 고객들의 데이터만 data_temp에 저장하겠다.\n",
    "    data_temp = data[(data.visit_date < key[0]) & (data.visit_date > start_date)].copy()\n",
    "    \n",
    "    # start_date와 차이가 난 일수만큼 visit_date에 저장\n",
    "    data_temp['visit_date'] = data_temp['visit_date'].apply(lambda x: diff_of_days(key[0],x))\n",
    "    \n",
    "    # (지정한 날짜기준)방문한지 얼마 안된 사람일 수록 weight를 크게\n",
    "    data_temp['weight'] = data_temp['visit_date'].apply(lambda x: 0.985**x)\n",
    "    \n",
    "    # store별 방문객에 weight를 곱해줌\n",
    "    data_temp['visitors'] = data_temp['visitors'] * data_temp['weight']\n",
    "    result1 = data_temp.groupby(['store_id'], as_index=False)['visitors'].agg({'store_exp_mean{}'.format(n_day): 'sum'})\n",
    "    result2 = data_temp.groupby(['store_id'], as_index=False)['weight'].agg({'store_exp_weight_sum{}'.format(n_day): 'sum'})\n",
    "    result = result1.merge(result2, on=['store_id'], how='left')\n",
    "    result['store_exp_mean{}'.format(n_day)] = result['store_exp_mean{}'.format(n_day)]/result['store_exp_weight_sum{}'.format(n_day)]\n",
    "    result = left_merge(label, result, on=['store_id']).fillna(0)\n",
    "    return result"
   ]
  },
  {
   "cell_type": "code",
   "execution_count": 109,
   "id": "de6c7400",
   "metadata": {},
   "outputs": [],
   "source": [
    "#주차별 특징 뽑기\n",
    "\n",
    "def get_store_week_feat(label, key, n_day):\n",
    "    start_date = date_add_days(key[0], -n_day)\n",
    "    data_temp = data[(data.visit_date < key[0]) & (data.visit_date > start_date)].copy()\n",
    "    result = data_temp.groupby(['store_id', 'dow'], as_index=False)['visitors'].agg({'store_dow_min{}'.format(n_day): 'min',\n",
    "                                                                                     'store_dow_mean{}'.format(n_day): 'mean',\n",
    "                                                                                     'store_dow_median{}'.format(n_day): 'median',\n",
    "                                                                                     'store_dow_max{}'.format(n_day): 'max',\n",
    "                                                                                     'store_dow_count{}'.format(n_day): 'count',\n",
    "                                                                                     'store_dow_std{}'.format(n_day): 'std',\n",
    "                                                                                     'store_dow_skew{}'.format(n_day): 'skew'})\n",
    "    result = left_merge(label, result, on=['store_id', 'dow']).fillna(0)\n",
    "    return result"
   ]
  },
  {
   "cell_type": "code",
   "execution_count": 110,
   "id": "70362bac",
   "metadata": {},
   "outputs": [],
   "source": [
    "def get_store_week_diff_feat(label, key, n_day):\n",
    "    start_date = date_add_days(key[0], -n_day)\n",
    "    data_temp = data[(data.visit_date < key[0]) & (data.visit_date > start_date)].copy()\n",
    "    result = data_temp.set_index(['store_id','visit_date'])['visitors'].unstack()\n",
    "    result = result.diff(axis=1).iloc[:,1:]\n",
    "    c = result.columns\n",
    "    result['store_diff_mean'] = np.abs(result[c]).mean(axis=1)\n",
    "    result['store_diff_std'] = result[c].std(axis=1)\n",
    "    result['store_diff_max'] = result[c].max(axis=1)\n",
    "    result['store_diff_min'] = result[c].min(axis=1)\n",
    "    result = left_merge(label, result[['store_diff_mean', 'store_diff_std', 'store_diff_max', 'store_diff_min']],on=['store_id']).fillna(0)\n",
    "    return result"
   ]
  },
  {
   "cell_type": "code",
   "execution_count": 111,
   "id": "87c8f7be",
   "metadata": {},
   "outputs": [],
   "source": [
    "#주차별로 보는듯??\n",
    "\n",
    "def get_store_all_week_feat(label, key, n_day):\n",
    "    start_date = date_add_days(key[0], -n_day)\n",
    "    data_temp = data[(data.visit_date < key[0]) & (data.visit_date > start_date)].copy()\n",
    "    result_temp = data_temp.groupby(['store_id', 'dow'],as_index=False)['visitors'].agg({'store_dow_mean{}'.format(n_day): 'mean',\n",
    "                                                                     'store_dow_median{}'.format(n_day): 'median',\n",
    "                                                                     'store_dow_sum{}'.format(n_day): 'max',\n",
    "                                                                     'store_dow_count{}'.format(n_day): 'count'})\n",
    "    result = pd.DataFrame()\n",
    "    for i in range(7):\n",
    "        result_sub = result_temp[result_temp['dow']==i].copy()\n",
    "        result_sub = result_sub.set_index('store_id')\n",
    "        result_sub = result_sub.add_prefix(str(i))\n",
    "        result_sub = left_merge(label, result_sub, on=['store_id']).fillna(0)\n",
    "        result = pd.concat([result,result_sub],axis=1)\n",
    "    return result"
   ]
  },
  {
   "cell_type": "code",
   "execution_count": 119,
   "id": "39701094",
   "metadata": {},
   "outputs": [],
   "source": [
    "def get_store_week_exp_feat(label, key, n_day):\n",
    "    start_date = date_add_days(key[0], -n_day)\n",
    "    data_temp = data[(data.visit_date < key[0]) & (data.visit_date > start_date)].copy()\n",
    "    data_temp['visit_date'] = data_temp['visit_date'].apply(lambda x: diff_of_days(key[0],x))\n",
    "    data_temp['visitors2'] = data_temp['visitors']\n",
    "    result = None\n",
    "    \n",
    "    # 방문날짜 가까울수록 값 크게하는데 hyper param 여러개 두어서, 차이도 줘보고 안줘보고 하는듯?\n",
    "    for i in [0.9,0.95,0.97,0.98,0.985,0.99,0.999,0.9999]:\n",
    "        data_temp['weight'] = data_temp['visit_date'].apply(lambda x: i**x)\n",
    "        data_temp['visitors1'] = data_temp['visitors'] * data_temp['weight']\n",
    "        data_temp['visitors2'] = data_temp['visitors2'] * data_temp['weight']\n",
    "        result1 = data_temp.groupby(['store_id', 'dow'], as_index=False)['visitors1'].agg({'store_dow_exp_mean{}_{}'.format(n_day,i): 'sum'})\n",
    "        result3 = data_temp.groupby(['store_id', 'dow'], as_index=False)['visitors2'].agg({'store_dow_exp_mean2{}_{}'.format(n_day, i): 'sum'})\n",
    "        result2 = data_temp.groupby(['store_id', 'dow'], as_index=False)['weight'].agg({'store_dow_exp_weight_sum{}_{}'.format(n_day,i): 'sum'})\n",
    "        result_temp = result1.merge(result2, on=['store_id', 'dow'], how='left')\n",
    "        result_temp = result_temp.merge(result3, on=['store_id', 'dow'], how='left')\n",
    "        result_temp['store_dow_exp_mean{}_{}'.format(n_day,i)] = result_temp['store_dow_exp_mean{}_{}'.format(n_day,i)]/result_temp['store_dow_exp_weight_sum{}_{}'.format(n_day,i)]\n",
    "        result_temp['store_dow_exp_mean2{}_{}'.format(n_day, i)] = result_temp[ 'store_dow_exp_mean2{}_{}'.format(n_day, i)]/result_temp['store_dow_exp_weight_sum{}_{}'.format(n_day, i)]\n",
    "        if result is None:\n",
    "            result = result_temp\n",
    "        else:\n",
    "            result = result.merge(result_temp,on=['store_id','dow'],how='left')\n",
    "    result = left_merge(label, result, on=['store_id', 'dow']).fillna(0)\n",
    "    return result"
   ]
  },
  {
   "cell_type": "code",
   "execution_count": 112,
   "id": "edcd0bf4",
   "metadata": {},
   "outputs": [],
   "source": [
    "def get_store_holiday_feat(label, key, n_day):\n",
    "    start_date = date_add_days(key[0], -n_day)\n",
    "    data_temp = data[(data.visit_date < key[0]) & (data.visit_date > start_date)].copy()\n",
    "    result1 = data_temp.groupby(['store_id', 'holiday_flg'], as_index=False)['visitors'].agg(\n",
    "        {'store_holiday_min{}'.format(n_day): 'min',\n",
    "         'store_holiday_mean{}'.format(n_day): 'mean',\n",
    "         'store_holiday_median{}'.format(n_day): 'median',\n",
    "         'store_holiday_max{}'.format(n_day): 'max',\n",
    "         'store_holiday_count{}'.format(n_day): 'count',\n",
    "         'store_holiday_std{}'.format(n_day): 'std',\n",
    "         'store_holiday_skew{}'.format(n_day): 'skew'})\n",
    "    result1 = left_merge(label, result1, on=['store_id', 'holiday_flg']).fillna(0)\n",
    "    result2 = data_temp.groupby(['store_id', 'holiday_flg2'], as_index=False)['visitors'].agg(\n",
    "        {'store_holiday2_min{}'.format(n_day): 'min',\n",
    "         'store_holiday2_mean{}'.format(n_day): 'mean',\n",
    "         'store_holiday2_median{}'.format(n_day): 'median',\n",
    "         'store_holiday2_max{}'.format(n_day): 'max',\n",
    "         'store_holiday2_count{}'.format(n_day): 'count',\n",
    "         'store_holiday2_std{}'.format(n_day): 'std',\n",
    "         'store_holiday2_skew{}'.format(n_day): 'skew'})\n",
    "    result2 = left_merge(label, result2, on=['store_id', 'holiday_flg2']).fillna(0)\n",
    "    result = pd.concat([result1, result2], axis=1)\n",
    "    return result"
   ]
  },
  {
   "cell_type": "markdown",
   "id": "5301a21c",
   "metadata": {},
   "source": [
    "# genre 분석 구간"
   ]
  },
  {
   "cell_type": "code",
   "execution_count": 113,
   "id": "2a9eb3f3",
   "metadata": {},
   "outputs": [],
   "source": [
    "def get_genre_visitor_feat(label, key, n_day):\n",
    "    start_date = date_add_days(key[0],-n_day)\n",
    "    data_temp = data[(data.visit_date < key[0]) & (data.visit_date > start_date)].copy()\n",
    "    result = data_temp.groupby(['air_genre_name'], as_index=False)['visitors'].agg({'genre_min{}'.format(n_day): 'min',\n",
    "                                                                             'genre_mean{}'.format(n_day): 'mean',\n",
    "                                                                             'genre_median{}'.format(n_day): 'median',\n",
    "                                                                             'genre_max{}'.format(n_day): 'max',\n",
    "                                                                             'genre_count{}'.format(n_day): 'count',\n",
    "                                                                             'genre_std{}'.format(n_day): 'std',\n",
    "                                                                             'genre_skew{}'.format(n_day): 'skew'})\n",
    "    result = left_merge(label, result, on=['air_genre_name']).fillna(0)\n",
    "    return result"
   ]
  },
  {
   "cell_type": "code",
   "execution_count": 114,
   "id": "20909836",
   "metadata": {},
   "outputs": [],
   "source": [
    "def get_genre_exp_visitor_feat(label, key, n_day):\n",
    "    start_date = date_add_days(key[0], -n_day)\n",
    "    data_temp = data[(data.visit_date < key[0]) & (data.visit_date > start_date)].copy()\n",
    "    data_temp['visit_date'] = data_temp['visit_date'].apply(lambda x: diff_of_days(key[0],x))\n",
    "    data_temp['weight'] = data_temp['visit_date'].apply(lambda x: 0.985**x)\n",
    "    data_temp['visitors'] = data_temp['visitors'] * data_temp['weight']\n",
    "    result1 = data_temp.groupby(['air_genre_name'], as_index=False)['visitors'].agg({'genre_exp_mean{}'.format(n_day): 'sum'})\n",
    "    result2 = data_temp.groupby(['air_genre_name'], as_index=False)['weight'].agg({'genre_exp_weight_sum{}'.format(n_day): 'sum'})\n",
    "    result = result1.merge(result2, on=['air_genre_name'], how='left')\n",
    "    result['genre_exp_mean{}'.format(n_day)] = result['genre_exp_mean{}'.format(n_day)]/result['genre_exp_weight_sum{}'.format(n_day)]\n",
    "    result = left_merge(label, result, on=['air_genre_name']).fillna(0)\n",
    "    return result"
   ]
  },
  {
   "cell_type": "code",
   "execution_count": 94,
   "id": "fffa0537",
   "metadata": {},
   "outputs": [],
   "source": [
    "def get_genre_week_feat(label, key, n_day):\n",
    "    start_date = date_add_days(key[0], -n_day)\n",
    "    data_temp = data[(data.visit_date < key[0]) & (data.visit_date > start_date)].copy()\n",
    "    \n",
    "    # 14개로 이뤄진 식당 유형과 0~6주차로 이뤄진 방문한 주차로 groupby\n",
    "    result = data_temp.groupby(['air_genre_name', 'dow'], as_index=False)['visitors'].agg({'genre_dow_min{}'.format(n_day): 'min',\n",
    "                                                                                         'genre_dow_mean{}'.format(n_day): 'mean',\n",
    "                                                                                         'genre_dow_median{}'.format(n_day): 'median',\n",
    "                                                                                         'genre_dow_max{}'.format(n_day): 'max',\n",
    "                                                                                         'genre_dow_count{}'.format(n_day): 'count',\n",
    "                                                                                         'genre_dow_std{}'.format(n_day): 'std',\n",
    "                                                                                         'genre_dow_skew{}'.format(n_day): 'skew'})\n",
    "    result = left_merge(label, result, on=['air_genre_name', 'dow']).fillna(0)\n",
    "    return result"
   ]
  },
  {
   "cell_type": "code",
   "execution_count": 96,
   "id": "0022f8d1",
   "metadata": {},
   "outputs": [],
   "source": [
    "def get_genre_week_exp_feat(label, key, n_day):\n",
    "    start_date = date_add_days(key[0], -n_day)\n",
    "    data_temp = data[(data.visit_date < key[0]) & (data.visit_date > start_date)].copy()\n",
    "    data_temp['visit_date'] = data_temp['visit_date'].apply(lambda x: diff_of_days(key[0],x))\n",
    "    data_temp['weight'] = data_temp['visit_date'].apply(lambda x: 0.985**x)\n",
    "    data_temp['visitors'] = data_temp['visitors'] * data_temp['weight']\n",
    "    result1 = data_temp.groupby(['air_genre_name', 'dow'], as_index=False)['visitors'].agg({'genre_dow_exp_mean{}'.format(n_day): 'sum'})\n",
    "    result2 = data_temp.groupby(['air_genre_name', 'dow'], as_index=False)['weight'].agg({'genre_dow_exp_weight_sum{}'.format(n_day): 'sum'})\n",
    "    result = result1.merge(result2, on=['air_genre_name', 'dow'], how='left')\n",
    "    result['genre_dow_exp_mean{}'.format(n_day)] = result['genre_dow_exp_mean{}'.format(n_day)]/result['genre_dow_exp_weight_sum{}'.format(n_day)]\n",
    "    result = left_merge(label, result, on=['air_genre_name', 'dow']).fillna(0)\n",
    "    return result"
   ]
  },
  {
   "cell_type": "code",
   "execution_count": 127,
   "id": "e56fc606",
   "metadata": {},
   "outputs": [],
   "source": [
    "def get_first_last_time(label, key, n_day):\n",
    "    start_date = date_add_days(key[0], -n_day)\n",
    "    data_temp = data[(data.visit_date < key[0]) & (data.visit_date > start_date)].copy()\n",
    "    data_temp = data_temp.sort_values('visit_date')\n",
    "    \n",
    "    # 지정한 기간중 첫 방문 날짜와 마지막 방문날짜 구하는듯??\n",
    "    result = data_temp.groupby('store_id')['visit_date'].agg(first_time=lambda x: diff_of_days(key[0],np.min(x)),\n",
    "                                                              last_time=lambda x: diff_of_days(key[0],np.max(x)))\n",
    "    result = left_merge(label, result, on=['store_id']).fillna(0)\n",
    "    return result"
   ]
  },
  {
   "cell_type": "code",
   "execution_count": 124,
   "id": "f5ae3f76",
   "metadata": {},
   "outputs": [],
   "source": [
    "# air_reserve\n",
    "def get_reserve_feat(label,key):\n",
    "    label_end_date = date_add_days(key[0], key[1])\n",
    "    air_reserve_temp = air_reserve[(air_reserve.visit_date >= key[0]) &             # key[0] 是'2017-04-23' # 중간날짜?\n",
    "                                   (air_reserve.visit_date < label_end_date) &      # label_end_date 是'2017-05-31' -> + 39잃 한거 인듯\n",
    "                                   (air_reserve.reserve_date < key[0])].copy()\n",
    "    air_reserve_temp = air_reserve_temp.merge(air_store,on='store_id',how='left')\n",
    "    air_reserve_temp['diff_time'] = (pd.to_datetime(air_reserve['visit_datetime'])-pd.to_datetime(air_reserve['reserve_datetime'])).dt.days\n",
    "    air_reserve_temp = air_reserve_temp.merge(air_store,on='store_id')\n",
    "    air_result = air_reserve_temp.groupby(['store_id', 'visit_date'])['reserve_visitors'].agg(\n",
    "        air_reserve_visitors= 'sum',\n",
    "         air_reserve_count= 'count')\n",
    "    air_store_diff_time_mean = air_reserve_temp.groupby(['store_id', 'visit_date'])['diff_time'].agg(\n",
    "        air_store_diff_time_mean= 'mean')\n",
    "    air_diff_time_mean = air_reserve_temp.groupby(['visit_date'])['diff_time'].agg(\n",
    "        air_diff_time_mean= 'mean')\n",
    "    air_result = air_result.unstack().fillna(0).stack()\n",
    "    air_date_result = air_reserve_temp.groupby(['visit_date'])['reserve_visitors'].agg(\n",
    "        air_date_visitors= 'sum',\n",
    "        air_date_count= 'count')\n",
    "    hpg_reserve_temp = hpg_reserve[(hpg_reserve.visit_date >= key[0]) & (hpg_reserve.visit_date < label_end_date) & (hpg_reserve.reserve_date < key[0])].copy()\n",
    "    hpg_reserve_temp['diff_time'] = (pd.to_datetime(hpg_reserve['visit_datetime']) - pd.to_datetime(hpg_reserve['reserve_datetime'])).dt.days\n",
    "    hpg_result = hpg_reserve_temp.groupby(['store_id', 'visit_date'])['reserve_visitors'].agg(hpg_reserve_visitors= 'sum',\n",
    "                                                                                               hpg_reserve_count= 'count')\n",
    "    hpg_result = hpg_result.unstack().fillna(0).stack()\n",
    "    hpg_date_result = hpg_reserve_temp.groupby(['visit_date'])['reserve_visitors'].agg(\n",
    "        hpg_date_visitors= 'sum',\n",
    "        hpg_date_count= 'count')\n",
    "    hpg_store_diff_time_mean = hpg_reserve_temp.groupby(['store_id', 'visit_date'])['diff_time'].agg(\n",
    "        hpg_store_diff_time_mean= 'mean')\n",
    "    hpg_diff_time_mean = hpg_reserve_temp.groupby(['visit_date'])['diff_time'].agg(\n",
    "        hpg_diff_time_mean= 'mean')\n",
    "    air_result = left_merge(label, air_result, on=['store_id','visit_date']).fillna(0)\n",
    "    air_store_diff_time_mean = left_merge(label, air_store_diff_time_mean, on=['store_id', 'visit_date']).fillna(0)\n",
    "    hpg_result = left_merge(label, hpg_result, on=['store_id', 'visit_date']).fillna(0)\n",
    "    hpg_store_diff_time_mean = left_merge(label, hpg_store_diff_time_mean, on=['store_id', 'visit_date']).fillna(0)\n",
    "    air_date_result = left_merge(label, air_date_result, on=['visit_date']).fillna(0)\n",
    "    air_diff_time_mean = left_merge(label, air_diff_time_mean, on=['visit_date']).fillna(0)\n",
    "    hpg_date_result = left_merge(label, hpg_date_result, on=['visit_date']).fillna(0)\n",
    "    hpg_diff_time_mean = left_merge(label, hpg_diff_time_mean, on=['visit_date']).fillna(0)\n",
    "    result = pd.concat([air_result,hpg_result,air_date_result,hpg_date_result,air_store_diff_time_mean,\n",
    "                        hpg_store_diff_time_mean,air_diff_time_mean,hpg_diff_time_mean],axis=1)\n",
    "    return result"
   ]
  },
  {
   "cell_type": "code",
   "execution_count": 116,
   "id": "63ed8b43",
   "metadata": {},
   "outputs": [],
   "source": [
    "# second feature\n",
    "def second_feat(result):\n",
    "    result['store_mean_14_28_rate'] = result['store_mean14']/(result['store_mean28']+0.01)\n",
    "    result['store_mean_28_56_rate'] = result['store_mean28'] / (result['store_mean56'] + 0.01)\n",
    "    result['store_mean_56_1000_rate'] = result['store_mean56'] / (result['store_mean1000'] + 0.01)\n",
    "    result['genre_mean_28_56_rate'] = result['genre_mean28'] / (result['genre_mean56'] + 0.01)\n",
    "    result['sgenre_mean_56_1000_rate'] = result['genre_mean56'] / (result['genre_mean1000'] + 0.01)\n",
    "    return result"
   ]
  },
  {
   "cell_type": "markdown",
   "id": "ede8edd6",
   "metadata": {},
   "source": [
    "# 데이터 만드는 구간"
   ]
  },
  {
   "cell_type": "code",
   "execution_count": 117,
   "id": "b4757383",
   "metadata": {},
   "outputs": [],
   "source": [
    "def make_feats(end_date,n_day):\n",
    "    t0 = time.time()\n",
    "    key = end_date,n_day\n",
    "    print('data key为：{}'.format(key))\n",
    "    print('add label')\n",
    "    label = get_label(end_date,n_day)\n",
    "\n",
    "    print('make feature...')\n",
    "    result = [label]\n",
    "    result.append(get_store_visitor_feat(label, key, 1000))        # store features\n",
    "    result.append(get_store_visitor_feat(label, key, 56))          # store features\n",
    "    result.append(get_store_visitor_feat(label, key, 28))          # store features\n",
    "    result.append(get_store_visitor_feat(label, key, 14))          # store features\n",
    "    result.append(get_store_exp_visitor_feat(label, key, 1000))    # store exp features\n",
    "    result.append(get_store_week_feat(label, key, 1000))           # store dow features\n",
    "    result.append(get_store_week_feat(label, key, 56))             # store dow features\n",
    "    result.append(get_store_week_feat(label, key, 28))             # store dow features\n",
    "    result.append(get_store_week_feat(label, key, 14))             # store dow features\n",
    "    result.append(get_store_week_diff_feat(label, key, 58))       # store dow diff features\n",
    "    result.append(get_store_week_diff_feat(label, key, 1000))      # store dow diff features\n",
    "    result.append(get_store_all_week_feat(label, key, 1000))       # store all week feat\n",
    "    result.append(get_store_week_exp_feat(label, key, 1000))       # store dow exp feat\n",
    "    result.append(get_store_holiday_feat(label, key, 1000))        # store holiday feat\n",
    "\n",
    "    result.append(get_genre_visitor_feat(label, key, 1000))         # genre feature\n",
    "    result.append(get_genre_visitor_feat(label, key, 56))           # genre feature\n",
    "    result.append(get_genre_visitor_feat(label, key, 28))           # genre feature\n",
    "    result.append(get_genre_exp_visitor_feat(label, key, 1000))     # genre feature\n",
    "    result.append(get_genre_week_feat(label, key, 1000))            # genre dow feature\n",
    "    result.append(get_genre_week_feat(label, key, 56))              # genre dow feature\n",
    "    result.append(get_genre_week_feat(label, key, 28))              # genre dow feature\n",
    "    result.append(get_genre_week_exp_feat(label, key, 1000))        # genre dow exp feature\n",
    "\n",
    "    result.append(get_reserve_feat(label,key))                      # air_reserve\n",
    "    result.append(get_first_last_time(label,key,1000))             # first time and last time\n",
    "\n",
    "    result.append(label)\n",
    "\n",
    "    print('merge...')\n",
    "    result = concat(result)\n",
    "\n",
    "    result = second_feat(result)\n",
    "\n",
    "    print('data shape：{}'.format(result.shape))\n",
    "    print('spending {}s'.format(time.time() - t0))\n",
    "    return result"
   ]
  },
  {
   "cell_type": "code",
   "execution_count": null,
   "id": "b6f73ed5",
   "metadata": {},
   "outputs": [],
   "source": []
  },
  {
   "cell_type": "markdown",
   "id": "b0481d35",
   "metadata": {},
   "source": [
    "# main 부분"
   ]
  },
  {
   "cell_type": "code",
   "execution_count": 129,
   "id": "6f27dbac",
   "metadata": {},
   "outputs": [
    {
     "name": "stdout",
     "output_type": "stream",
     "text": [
      "data key为：('2017-03-12', 39)\n",
      "add label\n",
      "make feature...\n",
      "merge...\n",
      "data shape：(27728, 224)\n",
      "spending 49.66805386543274s\n",
      "data key为：('2017-03-05', 39)\n",
      "add label\n",
      "make feature...\n",
      "merge...\n",
      "data shape：(27705, 224)\n",
      "spending 48.14367175102234s\n",
      "data key为：('2017-02-26', 39)\n",
      "add label\n",
      "make feature...\n",
      "merge...\n",
      "data shape：(27745, 224)\n",
      "spending 49.121726274490356s\n",
      "data key为：('2017-02-19', 39)\n",
      "add label\n",
      "make feature...\n",
      "merge...\n",
      "data shape：(27696, 224)\n",
      "spending 46.368059396743774s\n",
      "data key为：('2017-02-12', 39)\n",
      "add label\n",
      "make feature...\n",
      "merge...\n",
      "data shape：(27596, 224)\n",
      "spending 45.210009813308716s\n",
      "data key为：('2017-02-05', 39)\n",
      "add label\n",
      "make feature...\n",
      "merge...\n",
      "data shape：(27561, 224)\n",
      "spending 44.27115845680237s\n",
      "data key为：('2017-03-19', 35)\n",
      "add label\n",
      "make feature...\n",
      "merge...\n",
      "data shape：(24969, 224)\n",
      "spending 50.417733907699585s\n",
      "data key为：('2017-03-26', 28)\n",
      "add label\n",
      "make feature...\n",
      "merge...\n",
      "data shape：(20049, 224)\n",
      "spending 54.71253943443298s\n",
      "data key为：('2017-04-02', 21)\n",
      "add label\n",
      "make feature...\n",
      "merge...\n",
      "data shape：(14999, 224)\n",
      "spending 52.76471185684204s\n",
      "data key为：('2017-04-09', 14)\n",
      "add label\n",
      "make feature...\n",
      "merge...\n",
      "data shape：(10008, 224)\n",
      "spending 53.45048499107361s\n",
      "data key为：('2017-04-16', 7)\n",
      "add label\n",
      "make feature...\n",
      "merge...\n",
      "data shape：(5012, 224)\n",
      "spending 53.80080246925354s\n",
      "data key为：('2017-04-23', 39)\n",
      "add label\n",
      "make feature...\n",
      "merge...\n",
      "data shape：(32019, 224)\n",
      "spending 57.13782978057861s\n"
     ]
    }
   ],
   "source": [
    "import datetime\n",
    "import lightgbm as lgb\n",
    "\n",
    "train_feat = pd.DataFrame()\n",
    "start_date = '2017-03-12'\n",
    "for i in range(6):\n",
    "    train_feat_sub = make_feats(date_add_days(start_date, i*(-7)),39)\n",
    "    train_feat = pd.concat([train_feat,train_feat_sub])\n",
    "for i in range(1,6):\n",
    "    train_feat_sub = make_feats(date_add_days(start_date,i*(7)),42-(i*7))\n",
    "    train_feat = pd.concat([train_feat,train_feat_sub])\n",
    "test_feat = make_feats(date_add_days(start_date, 42),39)"
   ]
  },
  {
   "cell_type": "code",
   "execution_count": 130,
   "id": "5843feac",
   "metadata": {},
   "outputs": [],
   "source": [
    "predictors = [f for f in test_feat.columns if f not in (['id','store_id','visit_date','end_date','air_area_name','visitors','month'])]"
   ]
  },
  {
   "cell_type": "code",
   "execution_count": 131,
   "id": "9c2d1220",
   "metadata": {},
   "outputs": [],
   "source": [
    "params = {\n",
    "    'learning_rate': 0.02,\n",
    "    'boosting_type': 'gbdt',\n",
    "    'objective': 'regression',\n",
    "    'metric': 'rmse',\n",
    "    'sub_feature': 0.7,\n",
    "    'num_leaves': 60,\n",
    "    'min_data': 100,\n",
    "    'min_hessian': 1,\n",
    "    'verbose': -1,\n",
    "}"
   ]
  },
  {
   "cell_type": "code",
   "execution_count": 132,
   "id": "56527430",
   "metadata": {},
   "outputs": [
    {
     "name": "stdout",
     "output_type": "stream",
     "text": [
      "훈련시간62.378586530685425秒\n"
     ]
    }
   ],
   "source": [
    "t0 = time.time()\n",
    "lgb_train = lgb.Dataset(train_feat[predictors], train_feat['visitors'])\n",
    "lgb_test = lgb.Dataset(test_feat[predictors], test_feat['visitors'])\n",
    "\n",
    "gbm = lgb.train(params,lgb_train,2300)\n",
    "pred = gbm.predict(test_feat[predictors])\n",
    "\n",
    "print('훈련시간{}秒'.format(time.time() - t0))\n",
    "subm = pd.DataFrame({'id':test_feat.store_id + '_' + test_feat.visit_date,'visitors':np.expm1(pred)})\n",
    "subm = submission[['id']].merge(subm,on='id',how='left').fillna(0)\n",
    "subm.to_csv(r'..\\sub{}.csv'.format(datetime.datetime.now().strftime('%Y%m%d_%H%M%S')),\n",
    "                  index=False,  float_format='%.4f')"
   ]
  },
  {
   "cell_type": "code",
   "execution_count": null,
   "id": "7e8a5b5b",
   "metadata": {},
   "outputs": [],
   "source": []
  },
  {
   "cell_type": "code",
   "execution_count": null,
   "id": "83a22149",
   "metadata": {},
   "outputs": [],
   "source": []
  },
  {
   "cell_type": "code",
   "execution_count": null,
   "id": "890bb1f4",
   "metadata": {},
   "outputs": [],
   "source": []
  },
  {
   "cell_type": "code",
   "execution_count": null,
   "id": "e44d9592",
   "metadata": {},
   "outputs": [],
   "source": []
  },
  {
   "cell_type": "code",
   "execution_count": null,
   "id": "dcb50a18",
   "metadata": {},
   "outputs": [],
   "source": []
  },
  {
   "cell_type": "code",
   "execution_count": null,
   "id": "41723687",
   "metadata": {},
   "outputs": [],
   "source": []
  },
  {
   "cell_type": "code",
   "execution_count": null,
   "id": "3397c5a6",
   "metadata": {},
   "outputs": [],
   "source": []
  },
  {
   "cell_type": "code",
   "execution_count": 59,
   "id": "d8749317",
   "metadata": {},
   "outputs": [
    {
     "name": "stdout",
     "output_type": "stream",
     "text": [
      "2017-03-19 35\n",
      "2017-03-26 28\n",
      "2017-04-02 21\n",
      "2017-04-09 14\n",
      "2017-04-16 7\n"
     ]
    }
   ],
   "source": [
    "for i in range(1,6):\n",
    "    print(date_add_days('2017-03-12',i*(7)),42-(i*7))"
   ]
  },
  {
   "cell_type": "code",
   "execution_count": 60,
   "id": "cda42a8c",
   "metadata": {},
   "outputs": [
    {
     "name": "stdout",
     "output_type": "stream",
     "text": [
      "2017-03-12 39\n",
      "2017-03-05 39\n",
      "2017-02-26 39\n",
      "2017-02-19 39\n",
      "2017-02-12 39\n",
      "2017-02-05 39\n",
      "2017-01-29 39\n",
      "2017-01-22 39\n",
      "2017-01-15 39\n",
      "2017-01-08 39\n",
      "2017-01-01 39\n",
      "2016-12-25 39\n",
      "2016-12-18 39\n",
      "2016-12-11 39\n",
      "2016-12-04 39\n",
      "2016-11-27 39\n",
      "2016-11-20 39\n",
      "2016-11-13 39\n",
      "2016-11-06 39\n",
      "2016-10-30 39\n",
      "2016-10-23 39\n",
      "2016-10-16 39\n",
      "2016-10-09 39\n",
      "2016-10-02 39\n",
      "2016-09-25 39\n",
      "2016-09-18 39\n",
      "2016-09-11 39\n",
      "2016-09-04 39\n",
      "2016-08-28 39\n",
      "2016-08-21 39\n",
      "2016-08-14 39\n",
      "2016-08-07 39\n",
      "2016-07-31 39\n",
      "2016-07-24 39\n",
      "2016-07-17 39\n",
      "2016-07-10 39\n",
      "2016-07-03 39\n",
      "2016-06-26 39\n",
      "2016-06-19 39\n",
      "2016-06-12 39\n",
      "2016-06-05 39\n",
      "2016-05-29 39\n",
      "2016-05-22 39\n",
      "2016-05-15 39\n",
      "2016-05-08 39\n",
      "2016-05-01 39\n",
      "2016-04-24 39\n",
      "2016-04-17 39\n",
      "2016-04-10 39\n",
      "2016-04-03 39\n",
      "2016-03-27 39\n",
      "2016-03-20 39\n",
      "2016-03-13 39\n",
      "2016-03-06 39\n",
      "2016-02-28 39\n",
      "2016-02-21 39\n",
      "2016-02-14 39\n",
      "2016-02-07 39\n"
     ]
    }
   ],
   "source": [
    "for i in range(58):\n",
    "    print(date_add_days('2017-03-12', i*(-7)),39)"
   ]
  }
 ],
 "metadata": {
  "kernelspec": {
   "display_name": "Python 3",
   "language": "python",
   "name": "python3"
  },
  "language_info": {
   "codemirror_mode": {
    "name": "ipython",
    "version": 3
   },
   "file_extension": ".py",
   "mimetype": "text/x-python",
   "name": "python",
   "nbconvert_exporter": "python",
   "pygments_lexer": "ipython3",
   "version": "3.8.8"
  }
 },
 "nbformat": 4,
 "nbformat_minor": 5
}
